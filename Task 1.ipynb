{
 "cells": [
  {
   "cell_type": "markdown",
   "metadata": {
    "colab_type": "text",
    "id": "z0ybF8NSCW4W"
   },
   "source": [
    "# Instructions\n",
    "* You must work on this assignment individually. We check for similarities and find collusion cases every semester. You've been warned!\n",
    "* An interview will be conducted for each student by the tutoring team during the tutorials. The purpose of the interview is to assess to whether each student understands the answers that they have provided. Based on the interview, every student will be awarded a modifier $X$ to their mark, which can be 0, .5, or 1. Your final assignment mark will be $X \\times Y$, where $Y$ is the \"normal\" assignment mark from 0 to 100. This is a way for us to verify whether the answers you understand all the answers you have given. We strongly encourage you don't provide even one answer you don't understand, as this may penalise the entirety of your assignment mark.\n",
    "* This assignment contributes 20% towards your final mark in FIT5211.\n",
    "* The subjects are computational complexity, recursion, and divide-and-conquer.\n",
    "* The exercises are roughly given by increasing difficulty. Obtaining a 100% mark may be very hard, depending on your background, and will probably take many hours. The assignment is written such that everyone can correctly complete the first exercises, but it is likely that the last ones will only be succesfully completed by few.\n",
    "* We provide tests. Do not edit them. If you want to edit them for your own debugging, then please make a copy and remove it later. A program will not receive full marks if it does not pass all tests. A program which passes all tests may still be incorrect, and thus may not receive full marks either. You may write and run additional tests.\n",
    "* Write clear and commented code. Up to all marks can be removed if your code is hard to read.\n",
    "* The expected deliverable is a *zip* archive of the 5 Jupyter Notebooks, completed with your answers. Missing files will be marked 0.\n",
    "* For questions on this assigment, please use the [Moodle forum](https://lms.monash.edu/mod/forum/view.php?id=6220683).\n",
    "* The deadline is September 20, 23:55, submission via [Moodle](https://lms.monash.edu/course/view.php?id=56446&section=5). If this does not work, and only in this case, send your *zipped* Notebooks to Bao.Ho@monash.edu.\n",
    "* The late penalty is 10 marks (deducted from your original mark) per late day.\n",
    "* Have fun!"
   ]
  },
  {
   "cell_type": "markdown",
   "metadata": {
    "colab_type": "text",
    "id": "p0p0I74_CW4Y"
   },
   "source": [
    "# Question 1: The coin change problem (20 marks)"
   ]
  },
  {
   "cell_type": "markdown",
   "metadata": {
    "colab_type": "text",
    "id": "tqT0fVH_gE9J"
   },
   "source": [
    "A vending machine contains certain quantities of coins and notes, and we want to determine if it can provide a given list of changes. (Since the operating system of the vending machine runs in a Jupyter notebook, the currency it uses is the euro (€) and not the dollar (\\$), which is more complicated to handle in a Jupyter Notebook.)\n",
    "\n",
    "For example, suppose that the vending machine contains five 1€ coins, one 5€ note, and three 10€ notes.  Can the machine provide the list of changes?\n",
    "* [20€, 25€, 15€]. Clearly not, as the machine only has $5*1+1*5+3*10=40$€, but must give 60€ in change. The answer is then False.\n",
    "* [15€, 15€]. Yes, with one 10€ note and one 5€ note for the first amount, and with one 10€ note and five 1€ coins for the second amount. The answer is then True.\n",
    "* [8€, 15€]. It's less clear, but the answer is no. The only way to make 8€ is to use the 5€ note and three 1€ coins, and then there is no way to make 15€ with the remaining coins. The answer is then False.\n",
    "\n",
    "In this problem, the possible denominations of coins or notes that the machine can contain are 1€, 5€, 10€, 20€, 100€. This will be provided in a list called *denominations*, always equal to [1, 5, 10, 20, 100] in this question.\n",
    "\n",
    "There is also a number of each kind of denomination on hand, provided in a list called *multiplicities*, for instance [1, 3, 2, 3, 7], which means that there is one 1€ coin, three 5€ notes, two 10€ notes, three 20€ notes, and seven 100€ notes. The lists *denominations* and *multiplicities* will always have the same size.\n",
    "\n",
    "A series of customers need to get their change back and we want to know if there is adequate denominations and multiplicities in the cash register to give them all change. The *change_amounts* list contains these change amounts in euro (€). For example [12,30,5] means that changes of 12€, 30€, and 5€ have been requested.\n",
    "\n",
    "To formalise, the input of the program that you need to write is:\n",
    "* A list of $k$ denominations, always equal to [1, 5, 10, 20, 100] in our case.\n",
    "* A list of $k$ non-negative multiplicities (e.g. [1, 3, 2, 3, 7]).\n",
    "* A list of $n$ values, where each value is a positive integer (e.g. [12,30,5])\n",
    "\n",
    "The output is:\n",
    "* True if the vending machine can provide the exact changes, False otherwise.\n",
    "\n",
    "The runtime complexity of your algorithm should be in $O(k n)$."
   ]
  },
  {
   "cell_type": "markdown",
   "metadata": {
    "colab_type": "text",
    "id": "nstWDhNpnNJN"
   },
   "source": [
    "## Q1.1 (18 marks)\n",
    "Program your algorithm below.\n",
    "Your program MUST use the code provided."
   ]
  },
  {
   "cell_type": "code",
   "execution_count": 1,
   "metadata": {},
   "outputs": [],
   "source": [
    "def change_feasible(denominations, multiplicities, change_amounts):\n",
    "    assert len(denominations) == len(multiplicities)\n",
    "    \n",
    "    #we make local copies so we can change these lists within the function\n",
    "    multiplicities = multiplicities.copy()\n",
    "    change_amounts = change_amounts.copy()\n",
    "#first check is to check if the total amount of change that needs to be returned is\n",
    "# 0 or not, because even if it is 0 the machine can provide change but was not asked\n",
    "#for any.\n",
    "    if sum(change_amounts)==0:\n",
    "        return True\n",
    "# Checking if the denominations in the vending machine have multiplicities or not,\n",
    "# To check if the vending machine has money for every denomination or not.\n",
    "    if sum(multiplicities)==0:\n",
    "        return False\n",
    "# Now we are initializing a variable called Total which will store the total change \n",
    "# the total change the machine can return basically mutliply the denominations of \n",
    "#the ith term with the mutliplcities of that ith denominations so that we can add\n",
    "# them up and find the total money the machine contains.\n",
    "\n",
    "    Total=0\n",
    "# Looping through the mutliplicities to calculate total money in the machine.\n",
    "    for k in range(len(multiplicities)):\n",
    " #variable storing total money in the machine       \n",
    "        Total=Total+denominations[k]*multiplicities[k]  \n",
    "# If the total money in the machine is less than the total change required then we \n",
    "# cannot return change for those amounts.\n",
    "    if Total < sum(change_amounts):\n",
    "        return False\n",
    "## If Total is the same as the total change required then we can return the change\n",
    "    if Total == sum(change_amounts):\n",
    "        return True   # so it returns True\n",
    "# it the total money is higher than the total change then the amount of change\n",
    "## that needs to be returned from the money we have is calculated by calling\n",
    "## the vending machine function.\n",
    "    else:     \n",
    "## The vending machine function is called and if that function returns True then\n",
    "## returning change is possible otherwise not and will return False\n",
    "        if vending_machine(denominations, multiplicities, change_amounts) is True:\n",
    "            return True\n",
    "        else:\n",
    "            return False\n",
    "\n",
    "\n"
   ]
  },
  {
   "cell_type": "code",
   "execution_count": 2,
   "metadata": {},
   "outputs": [],
   "source": [
    "## This is a function that supports the main function, it is a supporting function\n",
    "## this is where the change that needs to be returned is calculated.\n",
    "\n",
    "## This function consists of these parameters\n",
    "def vending_machine(denominations, multiplicities, change_amounts):\n",
    "    assert len(denominations) == len(multiplicities)\n",
    "## we check the base case if denominations are 0, so till they are not 0 and the \n",
    "## conditions are not met, the change can be calculated.\n",
    "## If there are no denominations to select from then the base case returns False,\n",
    "## as change cannot be provided.\n",
    "    if len(denominations) == 0:    \n",
    "        return False\n",
    "## Now we run a loop and iterate through the change amounts to calculate the change \n",
    "## for each of the items\n",
    "    for i in range(len(change_amounts)):\n",
    "## Checking the base case, even if there is no change to be returned,\n",
    "## it will return True as the machine can provide change but there is no need as \n",
    "## no change has to be returned.\n",
    "        if change_amounts[i] == 0:\n",
    "            return True\n",
    "## Now we loop through denominations to calulate the change for the respective \n",
    "## change_amounts.\n",
    "        \n",
    "        for j in range(len(denominations)):\n",
    "## Here we check if the denominations are greater than the specific change_amount,\n",
    "## i.e. 100>12 and if this is the case then obviously we cannot return change,\n",
    "## as we need a denomination less than change_amount so as to provide change for \n",
    "## that amount, like 12>10 where 10 is the denomination so it can be used to\n",
    "## return change.\n",
    "            if denominations[j]>change_amounts[i]:\n",
    "## if the condition holds true then we decrease the iterator to an amount \n",
    "## less than the previous amount until the condition is not true.\n",
    "                j=j-1\n",
    "## then we check the coins needed to be returned, like 12//10 gives 2 then we check\n",
    "## if we can give change for 2\n",
    "                coins_required= change_amounts[i]//denominations[j]\n",
    "## if the coins required is like 2 then we check if we have multiplicities\n",
    "## to return that change\n",
    "                if coins_required>multiplicities[j]:\n",
    "## if we do not have multiplicities to return change then we recurse to next\n",
    "## next denomination in the list to check all the conditions above are met.\n",
    "                    return vending_machine(denominations[:j],multiplicities[:j],\\\n",
    "                                           change_amounts)\n",
    "## if multiplicities were available then, \n",
    "                else:\n",
    "## The change that is to be returned is subtracted from the change_amounts\n",
    "## so we can move on to next element to provide change for, and also \n",
    "## decrement the coins used from the mutliplicites too\n",
    "                    change_amounts[i]=change_amounts[i]-coins_required*denominations[j]\n",
    "                    multiplicities[j]=multiplicities[j]-coins_required\n",
    "\n",
    "                    return vending_machine(denominations, multiplicities, change_amounts)\n",
    "## if the change required is greater than the available denominations\n",
    "## so then it jumps straight to that.\n",
    "            if j== len(denominations)-1:\n",
    "## checks if the respective change is less than or equal to total money for \n",
    "##that specific denomination and if not recurse the function to check\n",
    "## the next denomination for mutliplicities.\n",
    "                if change_amounts[i] <= denominations[j]*multiplicities[j]:\n",
    "                    return True\n",
    "                else:\n",
    "                    return vending_machine(denominations[:j],multiplicities[:j],change_amounts)"
   ]
  },
  {
   "cell_type": "markdown",
   "metadata": {
    "colab_type": "text",
    "id": "cswNCKysR-n1"
   },
   "source": [
    "We provide unit testing, which your algorithm MUST pass. Do not edit the unit test class below except to help debug your program. Then restore it to what its original version. For reference, the solution code runs these tests in 0.15 seconds. If your code does not run in under a second, you are probably doing something incorrect, and your algorithm might not be in $O(k n)$."
   ]
  },
  {
   "cell_type": "code",
   "execution_count": 3,
   "metadata": {
    "colab": {},
    "colab_type": "code",
    "id": "IjmiRYVzCW4f"
   },
   "outputs": [
    {
     "name": "stderr",
     "output_type": "stream",
     "text": [
      ".....\n",
      "----------------------------------------------------------------------\n",
      "Ran 5 tests in 0.085s\n",
      "\n",
      "OK\n"
     ]
    },
    {
     "data": {
      "text/plain": [
       "<unittest.runner.TextTestResult run=5 errors=0 failures=0>"
      ]
     },
     "execution_count": 3,
     "metadata": {},
     "output_type": "execute_result"
    }
   ],
   "source": [
    "import unittest\n",
    "from operator import add\n",
    "import random\n",
    "random.seed(a=0)\n",
    "\n",
    "class TestChangeFeasible(unittest.TestCase):\n",
    "    def setUp(self):\n",
    "      self.denominations = [1, 5, 10, 20, 100]\n",
    "      self.multiplicities = []\n",
    "    \n",
    "    def checkFeasible(self, boolean, changes):\n",
    "        if boolean:\n",
    "            possible = \"possible\"\n",
    "        else:\n",
    "            possible = \"impossible\"\n",
    "        msg = \"it should be {} to give the change {} given multiplicities {}.\".format(possible, changes, self.multiplicities)\n",
    "        self.assertEqual(boolean, change_feasible(self.denominations, self.multiplicities, changes), msg)\n",
    "        \n",
    "    def testEmpty(self):\n",
    "        self.multiplicities = [0, 0, 0, 0, 0]\n",
    "        self.checkFeasible(True, [])\n",
    "        self.checkFeasible(True, [0])\n",
    "        self.checkFeasible(False, [1])\n",
    "        self.checkFeasible(False, [1, 2, 5])\n",
    "        \n",
    "    def testSingle(self):\n",
    "        for i in range(len(self.denominations)):\n",
    "            self.multiplicities = [0, 0, 0, 0, 0]\n",
    "            self.multiplicities[i] = 1\n",
    "            self.checkFeasible(True, [self.denominations[i]])\n",
    "            self.checkFeasible(False, [2*self.denominations[i]])\n",
    "\n",
    "    def testMultiple(self):\n",
    "        constant = 10\n",
    "        for i in range(len(self.denominations)):\n",
    "            self.multiplicities = [0, 0, 0, 0, 0]\n",
    "            self.multiplicities[i] = constant\n",
    "            for mult in range(constant+1):\n",
    "                self.checkFeasible(True, [mult*self.denominations[i]])\n",
    "            self.checkFeasible(False, [(constant+1)*self.denominations[i]])\n",
    "            \n",
    "    def generateChangeAndMults(self, denomination_mask, max_multiple = 10):\n",
    "        change = 0\n",
    "        change_multiplicities = []\n",
    "        for i in range(len(self.denominations)):\n",
    "            mult = 0\n",
    "            if denomination_mask[i]:\n",
    "                mult = random.randint(1, max_multiple)\n",
    "                change += mult * self.denominations[i]\n",
    "            change_multiplicities.append(mult)\n",
    "        return change, change_multiplicities\n",
    "                \n",
    "            \n",
    "    def makeSingleChange(self):\n",
    "        max_different_denominations = random.randint(1, len(self.denominations))\n",
    "        which_denominations = random.sample(self.denominations, max_different_denominations)\n",
    "        which_denominations.sort()\n",
    "        \n",
    "        denomination_mask = []\n",
    "        for denom in self.denominations:\n",
    "            denomination_mask.append(denom in which_denominations)\n",
    "            \n",
    "        return self.generateChangeAndMults(denomination_mask)\n",
    "\n",
    "    def testSingleChange(self):\n",
    "        number_tests = 100\n",
    "        for _ in range(number_tests):\n",
    "            change, change_multiplicities = self.makeSingleChange()\n",
    "            self.multiplicities = change_multiplicities\n",
    "            self.checkFeasible(True, [change])\n",
    "            self.checkFeasible(False, [change+1])\n",
    "            \n",
    "    def testMultipleChange(self):\n",
    "        max_test_size = 100\n",
    "        for test_size in range(1, max_test_size):\n",
    "            changes = []\n",
    "            self.multiplicities = [0, 0, 0, 0, 0]\n",
    "            for _ in range(test_size):\n",
    "                change, change_multiplicities = self.makeSingleChange()\n",
    "                changes.append(change)\n",
    "                self.multiplicities = list(map(add, self.multiplicities, change_multiplicities))\n",
    "                \n",
    "            random.shuffle(changes)\n",
    "            self.checkFeasible(True, changes)\n",
    "            changes[0] += random.sample(self.denominations, 1)[0]\n",
    "            self.checkFeasible(False, changes)\n",
    "\n",
    "testlist = TestChangeFeasible()\n",
    "suite = unittest.TestLoader().loadTestsFromModule(testlist)\n",
    "unittest.TextTestRunner().run(suite)"
   ]
  },
  {
   "cell_type": "markdown",
   "metadata": {
    "colab_type": "text",
    "id": "otNFfSo0nnKe"
   },
   "source": [
    "## Q1.2 (2 marks)\n",
    "Show that your algorithm is in $O(kn)$"
   ]
  },
  {
   "cell_type": "markdown",
   "metadata": {
    "colab_type": "text",
    "id": "WOuQsVNgnsoj"
   },
   "source": [
    "So,here there are two functions that have been created the first part is change_feasible which has mostly `if conditions` that has a time complexity of O(1).\n",
    "<br/>\n",
    "The change_feasible also has a for loop that is been run k-1 times through the list of multiplicities to calculate the total change that is available in the vending machine by element wise mutliplication of the denominations and multiplicities of the respective denominations.So the time complexity of that loop is O(k).\n",
    "\n",
    "Next, the other function called vending_machine is being called inside the change_fesible function where the total change the vending machine has greater than the  total change amount that is needed to be provided back to the customer.\n",
    "\n",
    "Now, two loops in the second function run for O(kn)as there are two loops that run, first loop using iterator i iterates through the length of change_amounts and within that loop we run a loop with iterator j along the length of the denominations list and there are 3 recursive functions being called inside this nested loop for various conditions, so the time complexity of each recursive functions is O(1) in the best case and in the worst case it executes for n-1 times.\n",
    "\n",
    "This second function called vending_machine is being called k-1 number of times within the change_feasible function.\n",
    "\n",
    "So it has a base case that when the length of denominations becomes zero then it will return False otherwise will compute change . \n",
    "\n",
    "\n",
    "\n",
    "So the time complexity for this second part is 𝑂(𝑛) for iterating over every element of change_amounts, and 𝑂(𝑘) for each function call of denomCheck per iteration.\n",
    "\n",
    "So,final time complexity is:\n",
    "𝑂(𝑘)+𝑂(𝑛𝑘)=𝑂(𝑘(n+1)) which would give us a complexity of O(kn)"
   ]
  },
  {
   "cell_type": "code",
   "execution_count": null,
   "metadata": {},
   "outputs": [],
   "source": []
  }
 ],
 "metadata": {
  "colab": {
   "collapsed_sections": [],
   "name": "FIT5211_2019_S2_Assignment_1_Q1_v2.ipynb",
   "provenance": [],
   "version": "0.3.2"
  },
  "kernelspec": {
   "display_name": "Python 3",
   "language": "python",
   "name": "python3"
  },
  "language_info": {
   "codemirror_mode": {
    "name": "ipython",
    "version": 3
   },
   "file_extension": ".py",
   "mimetype": "text/x-python",
   "name": "python",
   "nbconvert_exporter": "python",
   "pygments_lexer": "ipython3",
   "version": "3.6.8"
  }
 },
 "nbformat": 4,
 "nbformat_minor": 1
}
