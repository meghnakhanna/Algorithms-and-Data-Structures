{
 "cells": [
  
  {
   "cell_type": "code",
   "execution_count": 1,
   "metadata": {
    "colab": {},
    "colab_type": "code",
    "id": "LpGvjSQnTJok"
   },
   "outputs": [],
   "source": [
    "def plus(a,b):\n",
    "    return [a[0] + b[0]]\n",
    "\n",
    "def minus(a,b):\n",
    "    return [a[0] - b[0]]\n",
    "\n",
    "def divide(a,b):\n",
    "    return [a[0] / b[0]]\n",
    "\n",
    "def multiply(a,b):\n",
    "    return [a[0] * b[0]]"
   ]
  },
  {
   "cell_type": "markdown",
   "metadata": {
    "colab_type": "text",
    "id": "QjNxpEhFTJow"
   },
   "source": [
    "We can now use these function names as normal variable names:"
   ]
  },
  {
   "cell_type": "code",
   "execution_count": 2,
   "metadata": {
    "colab": {},
    "colab_type": "code",
    "id": "siRYIKVUTJoy"
   },
   "outputs": [],
   "source": [
    "expression = [[4], plus, [5]]"
   ]
  },
  {
   "cell_type": "markdown",
   "metadata": {
    "colab_type": "text",
    "id": "sIBe-3itTJo6"
   },
   "source": [
    "We can evaluate these expressions:"
   ]
  },
  {
   "cell_type": "code",
   "execution_count": 3,
   "metadata": {
    "colab": {},
    "colab_type": "code",
    "id": "hz3ZzvUgTJo9",
    "outputId": "b6cd4f42-f408-496c-e007-845424f1dd33"
   },
   "outputs": [
    {
     "data": {
      "text/plain": [
       "[9]"
      ]
     },
     "execution_count": 3,
     "metadata": {},
     "output_type": "execute_result"
    }
   ],
   "source": [
    "expression[1](expression[0], expression[2])"
   ]
  },
  {
   "cell_type": "markdown",
   "metadata": {
    "colab_type": "text",
    "id": "0AbmtoIKTJpH"
   },
   "source": [
    "The line above simply calls plus with arguments 4 and 5."
   ]
  },
  {
   "cell_type": "markdown",
   "metadata": {
    "colab_type": "text",
    "id": "Xr2A2ykUTJpJ"
   },
   "source": [
    "Here's a more complicated example:"
   ]
  },
  {
   "cell_type": "code",
   "execution_count": 4,
   "metadata": {
    "colab": {},
    "colab_type": "code",
    "id": "u05EmC8zTJpL"
   },
   "outputs": [],
   "source": [
    "expression = [[[12], divide, [3]], plus, [5]]"
   ]
  },
  {
   "cell_type": "code",
   "execution_count": 5,
   "metadata": {
    "colab": {},
    "colab_type": "code",
    "id": "tG3IcvscTJpT",
    "outputId": "416cf2a9-e709-46d2-ef20-f27d2ab7c1bb"
   },
   "outputs": [
    {
     "name": "stdout",
     "output_type": "stream",
     "text": [
      "[4.0]\n"
     ]
    }
   ],
   "source": [
    "expression[0] = expression[0][1](expression[0][0], expression[0][2])\n",
    "print(expression[0])"
   ]
  },
  {
   "cell_type": "markdown",
   "metadata": {
    "colab_type": "text",
    "id": "Cq16eEhfTJpb"
   },
   "source": [
    "The lines above have simplied the nested expression into a non-nested expression:"
   ]
  },
  {
   "cell_type": "code",
   "execution_count": 6,
   "metadata": {
    "colab": {},
    "colab_type": "code",
    "id": "kOqnwsghTJpd",
    "outputId": "d220698c-2566-4cce-d931-fe4dbac1cbce"
   },
   "outputs": [
    {
     "name": "stdout",
     "output_type": "stream",
     "text": [
      "[[4.0], <function plus at 0x7f74a00a3e18>, [5]]\n"
     ]
    }
   ],
   "source": [
    "print(expression)"
   ]
  },
  {
   "cell_type": "markdown",
   "metadata": {
    "colab_type": "text",
    "id": "wn9vFmSiTJpl"
   },
   "source": [
    "Notice how the *plus* function in our expression is printed by Python."
   ]
  },
  {
   "cell_type": "markdown",
   "metadata": {
    "colab_type": "text",
    "id": "ai7-YJCnTJpn"
   },
   "source": [
    "We can now evaluate this expression as we have with the first one."
   ]
  },
  {
   "cell_type": "code",
   "execution_count": 7,
   "metadata": {
    "colab": {},
    "colab_type": "code",
    "id": "_lvYMpk_TJpp",
    "outputId": "5719e03e-b788-44ee-b607-3e5857bcfac3"
   },
   "outputs": [
    {
     "data": {
      "text/plain": [
       "[9.0]"
      ]
     },
     "execution_count": 7,
     "metadata": {},
     "output_type": "execute_result"
    }
   ],
   "source": [
    "expression[1](expression[0], expression[2])"
   ]
  },
  {
   "cell_type": "markdown",
   "metadata": {
    "colab_type": "text",
    "id": "oEQHsWLLTJpw"
   },
   "source": [
    "The goal of this question is to write a program which can evaluate such nested mathematical expressions."
   ]
  },
  {
   "cell_type": "markdown",
   "metadata": {
    "colab_type": "text",
    "id": "UhdCnhGqTJpy"
   },
   "source": [
    "Write a recursive program which can evaluate expressions as described above, and returns a list containing a single number. Your program MUST use the code we provide."
   ]
  },
  {
   "cell_type": "code",
   "execution_count": 8,
   "metadata": {
    "colab": {},
    "colab_type": "code",
    "id": "d7mO_TvhTJp1"
   },
   "outputs": [],
   "source": [
    "def recursive_expr_eval(expr):\n",
    "    # Asserts that the length of the expression should be one or three\n",
    "    assert len(expr) == 1 or len(expr) == 3  \n",
    "    # Here we are checking the condition if the length of the expression is one,\n",
    "    #i.e. if the expression is [9] then it should just return 9 ,it is the base\n",
    "    #case for solving this problem recursively, the program will terminate when the \n",
    "    # condition of the base case is met\n",
    "    if len(expr) == 1:\n",
    "        return expr\n",
    "    #if the first condition is not met then alternatively we solve the expression\n",
    "    #recursively as the displayed in the expressions if the length of \n",
    "    #first or third expression of one problem are greater than 1 then those\n",
    "    #expressions will be solved recursively till the length of that expression\n",
    "    #becomes one and then those exprssions with length 1 are used to calculate\n",
    "    #the final answer of the problem by using expr[1] which could be any \n",
    "    # mathematical function and return the final answer to the problem\n",
    "    else:\n",
    "        return expr[1](recursive_expr_eval(expr[0]),recursive_expr_eval(expr[2])) \n",
    "        \n",
    "    \n",
    "    \n",
    "    \n",
    "    "
   ]
  },
  {
   "cell_type": "markdown",
   "metadata": {
    "colab_type": "text",
    "id": "xRCsDrSUTJp8"
   },
   "source": [
    "Use the assertions below to test your code:"
   ]
  },
  {
   "cell_type": "code",
   "execution_count": 9,
   "metadata": {
    "colab": {},
    "colab_type": "code",
    "id": "vcJ2CjUdTJp_"
   },
   "outputs": [],
   "source": [
    "assert recursive_expr_eval([9]) == [9]"
   ]
  },
  {
   "cell_type": "code",
   "execution_count": 10,
   "metadata": {
    "colab": {},
    "colab_type": "code",
    "id": "IAgVyrkSTJqD"
   },
   "outputs": [],
   "source": [
    "assert recursive_expr_eval([[[12], divide, [3]], plus, [5]]) == [9.0]"
   ]
  },
  {
   "cell_type": "code",
   "execution_count": 11,
   "metadata": {
    "colab": {},
    "colab_type": "code",
    "id": "HoV_maCATJqJ"
   },
   "outputs": [],
   "source": [
    "expression1 = [[[12], divide, [3]], plus, [[6], minus, [1]]]\n",
    "expression2 = [[[5], plus, [12]], multiply, [[3], plus, [0]]]\n",
    "expressionplus = [expression1, plus, expression2]\n",
    "expressionminus = [expression1, minus, expression2]\n",
    "expressiondivide = [expression1, divide, expression2]\n",
    "expressionmultiply = [expression1, multiply, expression2]"
   ]
  },
  {
   "cell_type": "code",
   "execution_count": 12,
   "metadata": {
    "colab": {},
    "colab_type": "code",
    "id": "nCslZ062TJqQ"
   },
   "outputs": [
    {
     "data": {
      "text/plain": [
       "[9.0]"
      ]
     },
     "execution_count": 12,
     "metadata": {},
     "output_type": "execute_result"
    }
   ],
   "source": [
    "recursive_expr_eval(expression1)"
   ]
  },
  {
   "cell_type": "code",
   "execution_count": 13,
   "metadata": {
    "colab": {},
    "colab_type": "code",
    "id": "aeFJUW4XTJqV"
   },
   "outputs": [
    {
     "data": {
      "text/plain": [
       "[51]"
      ]
     },
     "execution_count": 13,
     "metadata": {},
     "output_type": "execute_result"
    }
   ],
   "source": [
    "recursive_expr_eval(expression2)"
   ]
  },
  {
   "cell_type": "code",
   "execution_count": 14,
   "metadata": {
    "colab": {},
    "colab_type": "code",
    "id": "Bncibsz0TJqc"
   },
   "outputs": [],
   "source": [
    "assert recursive_expr_eval(expressionplus) == [60.0]"
   ]
  },
  {
   "cell_type": "code",
   "execution_count": 15,
   "metadata": {
    "colab": {},
    "colab_type": "code",
    "id": "S6lGXtwgTJqg"
   },
   "outputs": [],
   "source": [
    "assert recursive_expr_eval(expressionminus) == [-42.0]"
   ]
  },
  {
   "cell_type": "code",
   "execution_count": 16,
   "metadata": {
    "colab": {},
    "colab_type": "code",
    "id": "RaU7KW58TJqm"
   },
   "outputs": [],
   "source": [
    "assert recursive_expr_eval(expressiondivide) <= [0.17648]\n",
    "assert recursive_expr_eval(expressiondivide) >= [0.17647]"
   ]
  },
  {
   "cell_type": "code",
   "execution_count": 17,
   "metadata": {
    "colab": {},
    "colab_type": "code",
    "id": "gLVv_n4tTJqr"
   },
   "outputs": [],
   "source": [
    "assert recursive_expr_eval(expressionmultiply) == [459.0]"
   ]
  },
  {
   "cell_type": "code",
   "execution_count": null,
   "metadata": {},
   "outputs": [],
   "source": []
  }
 ],
 "metadata": {
  "colab": {
   "collapsed_sections": [],
   "name": "FIT5211_2019_S2_Assignment_1_Q2_v1.ipynb",
   "provenance": [],
   "version": "0.3.2"
  },
  "kernelspec": {
   "display_name": "Python 3",
   "language": "python",
   "name": "python3"
  },
  "language_info": {
   "codemirror_mode": {
    "name": "ipython",
    "version": 3
   },
   "file_extension": ".py",
   "mimetype": "text/x-python",
   "name": "python",
   "nbconvert_exporter": "python",
   "pygments_lexer": "ipython3",
   "version": "3.7.3"
  }
 },
 "nbformat": 4,
 "nbformat_minor": 1
}
