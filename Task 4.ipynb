{
 "cells": [
  {
   "cell_type": "markdown",
   "metadata": {
    "colab_type": "text",
    "id": "jPGrnbyFQqYe"
   },
   "source": [
    "# Q1 Sorting with duplicates (30 marks)"
   ]
  },
  {
   "cell_type": "markdown",
   "metadata": {
    "colab_type": "text",
    "id": "xY6qc3qcQqYm"
   },
   "source": [
    "The input is a unsorted list of non-negative real numbers. The list has size $n$, and there are $k \\leq n$ different numbers in that list (i.e. there may be duplicates)."
   ]
  },
  {
   "cell_type": "markdown",
   "metadata": {
    "colab_type": "text",
    "id": "uH9vSQm1QqYr"
   },
   "source": [
    "## Q1.1 (25 marks)\n",
    "Design and implement an algorithm which can sort this list and has *average* runtime in $O(n \\log k)$. You may only use the Python $list$ container, and no other (so no dictionary, no set, etc). You may not use an existing implementation of a sorting algorithm (including Python's). If you feel that it is needed, you can write your own implementation of a sorting algorithm. Any other data structure that you need has to be implemented here as well. For reference, the solution code is less than 40 lines long."
   ]
  },
  {
   "cell_type": "markdown",
   "metadata": {},
   "source": [
    "### Create a Node class to instantiate a node object in order to build the Binary Search Tree. \n",
    "Has three functions:\n",
    "* init()\n",
    "* inorder()\n",
    "* child_insertion()"
   ]
  },
  {
   "cell_type": "code",
   "execution_count": 1,
   "metadata": {},
   "outputs": [],
   "source": [
    "## Initialize the Node  class with the init() function which has the input arguments\n",
    "## of the current intance of the class and a key which is a reference to the node\n",
    "## being created where the left and right child and a counter to keep a track of \n",
    "## the duplicates, the frequency of a number as None.\n",
    "class Node:\n",
    "    def __init__(self,key):\n",
    "        self.left_child = None\n",
    "        self.right_child = None\n",
    "        self.repetitions = 1\n",
    "        self.key=key\n",
    "\n",
    "\n",
    "## Create a function for the insertion of a node into the Binary Tree with 2\n",
    "## input arguments the key and the class instance.\n",
    "\n",
    "    def child_insertion(self,key):   ## )(logk)\n",
    "## check if an element of the unsorted_list is smaller than the root node if it is\n",
    "## and if there is no left child then this element is made the left child,\n",
    "## else the child insertion function is recursively called to check if this element\n",
    "## to be inserted is less than the left child if it is the node is inserted to the left \n",
    "## of the left child.\n",
    "            if self.key > key:\n",
    "                if self.left_child is None:\n",
    "                    self.left_child = Node(key)\n",
    "                else:\n",
    "                    self.left_child.child_insertion(key)\n",
    "                    \n",
    "## elif the key to be inserted has already been inserted then the repetitions counter\n",
    "## is incremented by one to keep a track of the duplicates.\n",
    "            elif self.key == key:\n",
    "                self.repetitions+=1\n",
    "\n",
    "## if the new element is greater than root and there is no right child this new element\n",
    "## is the right child else insert function is recursively called to check if this \n",
    "## element is greater than the right child then inserted to the right of the right\n",
    "## child,\n",
    "            else: \n",
    "                if self.right_child is None:\n",
    "                    self.right_child = Node(key)\n",
    "                else:\n",
    "                    self.right_child.child_insertion(key)\n",
    "                    \n",
    "## Use inorder traversal to sort a list that is ledt child,root,right child.\n",
    "    def inorder(self,sorted_list):    ## O(n)\n",
    "## if left child exists then recursively call inorder on the left_child with\n",
    "## input argument as sorted_list\n",
    "        if self.left_child:\n",
    "            self.left_child.inorder(sorted_list)\n",
    "## Run a loop to check for duplicates for any element in the left subtree if yes\n",
    "## insert it to the sorted_list list\n",
    "        for i in range(self.repetitions):    \n",
    "            sorted_list.append(self.key)\n",
    "## if right child exists call inorder on the right child and make the comparisions\n",
    "## again and after checking for duplicates for that right child if duplicates exist\n",
    "## append that right child those many times to the sorted_list\n",
    "        if self.right_child:\n",
    "            self.right_child.inorder(sorted_list)\n",
    "## Return the final sorted list\n",
    "        return sorted_list\n",
    "\n"
   ]
  },
  {
   "cell_type": "markdown",
   "metadata": {},
   "source": [
    "### Instantiate a class to build a BInary Search Tree\n",
    "Has three functions:\n",
    "* init()\n",
    "* inorder()\n",
    "* add()"
   ]
  },
  {
   "cell_type": "code",
   "execution_count": 2,
   "metadata": {},
   "outputs": [],
   "source": [
    "## Intialize the class with root, left and right child as None. \n",
    "\n",
    "class BinaryTree:\n",
    "    def __init__(self):\n",
    "        self.LeftChild = None\n",
    "        self.RightChild = None\n",
    "        self.root = None\n",
    "\n",
    "## inorder function that checks if root exists then calls the inorder function \n",
    "## on the tree or returns an empty list\n",
    "    def inorder(self):   ## O(n)\n",
    "        if self.root:\n",
    "            return self.root.inorder([])\n",
    "        else:\n",
    "            return []\n",
    "\n",
    "## function for inserting a child first creates a Node object then if root does\n",
    "## not exist the new node is the root else call the child_insertion function from\n",
    "## node class and insert the keys after making the comparisions as specified in \n",
    "## the function and insert the child\n",
    "\n",
    "\n",
    "    def add(self, key):   ## O(log k)\n",
    "        new_node = Node(key)\n",
    "        if self.root is None:\n",
    "            self.root = new_node\n",
    "        else:\n",
    "             return self.root.child_insertion(key)\n",
    "\n",
    "\n"
   ]
  },
  {
   "cell_type": "markdown",
   "metadata": {},
   "source": [
    "<font color='red'>\n",
    "    The main function that sorts the list with duplicates."
   ]
  },
  {
   "cell_type": "code",
   "execution_count": 3,
   "metadata": {
    "colab": {},
    "colab_type": "code",
    "id": "EEsUMegfQqYx"
   },
   "outputs": [],
   "source": [
    "def sortlist(l):\n",
    "    \"\"\" Returns a sorted list which contains the same elements as l\n",
    "        (including duplicates). The input list l should not be changed.\"\"\"\n",
    "    #TODO implement your algorithm here.\n",
    "    \n",
    "## Validating if the list has elements more than one then create a binary tree\n",
    "## object then traverse the entire list and build a tree by calling the child_insertion\n",
    "## function through th add function and once the tree is built return the inorderd/\n",
    "## sorted list\n",
    "    if len(l)>1:  ## O(1)\n",
    "        bstree=BinaryTree()    ## O(1)\n",
    "        for i in l:           ## O(n)\n",
    "            bstree.add(i)     ## O(log k)\n",
    "        return bstree.inorder()   ## O(n)\n",
    "\n",
    "## If no elements in the list return an empty list.  \n",
    "    elif len(l)==0:    ## O(1)\n",
    "        return []\n",
    "## else add 0 to the binary tree object .\n",
    "    else:\n",
    "        bstree=BinaryTree()\n",
    "        bstree.add(0)\n",
    "        return bstree.inorder()\n",
    "       \n",
    "   "
   ]
  },
  {
   "cell_type": "markdown",
   "metadata": {
    "colab_type": "text",
    "id": "fTIygw42QqZS"
   },
   "source": [
    "We provide unit tests below. Your implementation must pass all tests to get full marks. For reference, the solution code runs in less than a minute. If your code requires a significant longer time to run, then it may be bugged, or your algorithm may not have an average runtime in $O(n \\log k)$."
   ]
  },
  {
   "cell_type": "code",
   "execution_count": 4,
   "metadata": {
    "colab": {},
    "colab_type": "code",
    "id": "GnmYKzKrQqZW"
   },
   "outputs": [],
   "source": [
    "import unittest\n",
    "import random\n",
    "import math\n",
    "random.seed(a=0)\n",
    "\n",
    "class Testsortlist(unittest.TestCase):\n",
    "    def setUp(self):\n",
    "        self.numbers = [math.sqrt(i) for i in random.sample(range(10000000), 1000)]\n",
    "        self.ntests = 100\n",
    "    \n",
    "    def checklist(self, l):\n",
    "        check = sortlist(l)\n",
    "        l.sort()\n",
    "        self.assertEqual(l, check)\n",
    "        \n",
    "    def testEmpty(self):\n",
    "        self.checklist([])\n",
    "        \n",
    "    def testSingle(self):\n",
    "        self.checklist([0])\n",
    "        \n",
    "    def testNoMult(self):\n",
    "        for _ in range(self.ntests):\n",
    "            self.checklist(random.sample(self.numbers, len(self.numbers)//2))\n",
    "            \n",
    "    def testkMult(self):\n",
    "        for k in [2, 5, 10, 100]:\n",
    "            for _ in range(self.ntests):\n",
    "                self.checklist(random.choices(self.numbers, k=k*len(self.numbers)))"
   ]
  },
  {
   "cell_type": "code",
   "execution_count": 5,
   "metadata": {
    "colab": {},
    "colab_type": "code",
    "id": "i2tUAQs_QqZj"
   },
   "outputs": [
    {
     "name": "stderr",
     "output_type": "stream",
     "text": [
      "....\n",
      "----------------------------------------------------------------------\n",
      "Ran 4 tests in 45.776s\n",
      "\n",
      "OK\n"
     ]
    },
    {
     "data": {
      "text/plain": [
       "<unittest.runner.TextTestResult run=4 errors=0 failures=0>"
      ]
     },
     "execution_count": 5,
     "metadata": {},
     "output_type": "execute_result"
    }
   ],
   "source": [
    "testlist = Testsortlist()\n",
    "suite = unittest.TestLoader().loadTestsFromModule(testlist)\n",
    "unittest.TextTestRunner().run(suite)"
   ]
  },
  {
   "cell_type": "markdown",
   "metadata": {
    "colab_type": "text",
    "id": "faxNJzv_QqZv"
   },
   "source": [
    "## Q1.2 (5 marks)\n",
    "Prove that your algorithm has an average runtime in $O(n \\log k)$. Determine and prove its worst-case runtime."
   ]
  },
  {
   "cell_type": "markdown",
   "metadata": {
    "colab_type": "text",
    "id": "5ff4PHuFQqZ1"
   },
   "source": [
    "<font color='green'>\n",
    "The average runtime complexity of a binary search tree for in-order traversals is \n",
    "always O(logn) and the reason for that is  when they traverse the tree from root to\n",
    "leaf to sort them or to search for an item, they make comparisons to keys stored in the nodes of the tree and then make their decisions based on this comparision.<br>\n",
    "\n",
    "So, due to these comparisions we are able to skip almost half of the tree when operating on binary search tree, which is proportional to the logarithm of the numbers stored in the tree."
   ]
  },
  {
   "cell_type": "markdown",
   "metadata": {},
   "source": [
    "So, the runtime complexity can be computed as follows:\n",
    "* In  `sortlist(l)` we traverse thorugh the length of the entire list which gives us a time complexity of **O(n)** as the length of the list is n.<br>\n",
    "\n",
    "Within that loop we call `add()` which is a function of the Binary Tree class and this class calls a function() called `child_insertion()` which is within the node class.<br>\n",
    "\n",
    "In this function is where the comparision takes place whether the new node that is to be inserted is greater than or less than the root node if it is less than the root then the new node is inserted as the Left Child otherwise as the Right Child. <br>\n",
    "\n",
    "The complexity of this operation where the binary tree is being built has an asymptotic complexity of **O(logk)** and since this was called whithin the loop that traverses along the length of that list that gives us a total complexity of **O(nlogk)**.(The duplicates are not inserted into the Binary Tree, only their count is tracked).\n",
    "\n",
    "\n",
    "The `inorder` function which returns a result in the order leftChild,Root,RightChild has the time complexity of **O(n)** as it is traversing through the list and first traversing the left subtree. the root and then right subtree which would give a time complexity of O(n) the number of nodes in the tree.\n",
    "\n",
    "\n",
    "So, the equation for complexity looks like ${O(n)+O(n \\log k)}$ so since O(n \\log k) is a higher term than O(n) that is the reason the runtime complexity of the entire algorithm is ${O(n \\log k)}$.\n"
   ]
  },
  {
   "cell_type": "code",
   "execution_count": null,
   "metadata": {},
   "outputs": [],
   "source": []
  }
 ],
 "metadata": {
  "colab": {
   "name": "FIT5211_2019_S2_Assignment_2_Q1_v1.1.ipynb",
   "provenance": []
  },
  "kernelspec": {
   "display_name": "Python 3",
   "language": "python",
   "name": "python3"
  },
  "language_info": {
   "codemirror_mode": {
    "name": "ipython",
    "version": 3
   },
   "file_extension": ".py",
   "mimetype": "text/x-python",
   "name": "python",
   "nbconvert_exporter": "python",
   "pygments_lexer": "ipython3",
   "version": "3.6.8"
  }
 },
 "nbformat": 4,
 "nbformat_minor": 1
}
