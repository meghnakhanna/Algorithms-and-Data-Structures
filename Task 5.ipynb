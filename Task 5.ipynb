{
 "cells": [
  {
   "cell_type": "markdown",
   "metadata": {
    "colab_type": "text",
    "id": "NuPsmd2CSoyP"
   },
   "source": [
    "# Q2 Contaminated nodes in a tree (25 marks)"
   ]
  },
  {
   "cell_type": "markdown",
   "metadata": {
    "colab_type": "text",
    "id": "dhS65cT3SoyU"
   },
   "source": [
    "You are given a tree $T$ with a set of nodes $V$. \n",
    "The tree $T$ can have arbitrary degree, i.e. nodes can have arbitrarily many children.\n",
    "A subset of the nodes of $V$, called $C$, is *contaminated*.\n",
    "The other nodes, called $P$, contain a *population*.\n",
    "Hence every node either belongs to the set $C$ or $P$.\n",
    "A population node in $P$ is *safe* if it is not connected to a contaminated node in $C$, i.e. there exists no path between the population node and any contaminated node. \n",
    "\n",
    "Your task is to find the minimum number of edges of the tree $T$ that must be cut (i.e. deleted) such that all population nodes are safe.\n",
    "\n",
    "Examples are provided in the unit tests."
   ]
  },
  {
   "cell_type": "markdown",
   "metadata": {
    "colab_type": "text",
    "id": "3fSI6pngSoyX"
   },
   "source": [
    "## Q2.1 (5 marks)\n",
    "Describe an algorithm to solve this problem. An unclear or unspecific description will get 0 marks. There is no constraint on the type of algorthm to use, but more efficient algorithms get more marks."
   ]
  },
  {
   "cell_type": "markdown",
   "metadata": {
    "colab_type": "text",
    "id": "MJPl7pbcSoyb"
   },
   "source": [
    "(write your answer here)."
   ]
  },
  {
   "cell_type": "markdown",
   "metadata": {
    "colab_type": "text",
    "id": "-C_XZGwkSoyf"
   },
   "source": [
    "## Q2.2 (5 marks)\n",
    "What is the worst-case runtime complexity of your algorithm? Explain."
   ]
  },
  {
   "cell_type": "markdown",
   "metadata": {
    "colab_type": "text",
    "id": "l7IYmVS8Soyr"
   },
   "source": [
    "The problem statement is:There is a binary tree that has contaminated nodes and population nodes that need to saved from the contaminated nodes, the explanation for the worst time complexity is:\n",
    "\n",
    "* *The first part of the algorithm where the Node Class is instantiated with children of the tree as an empty list and the contaminated nodes as False. This Node class has 1 function which is the addChild() function which has the time complexity of O(n) as the addChild function will keep on adding children where the number of children is the length of the list is n so the worst time complexity for the that function is O(n);*<br>\n",
    "<br>\n",
    "\n",
    "\n",
    "\n",
    "\n",
    "\n",
    "\n",
    "* *The second part of the algorithm is where there is the minimum_cost_edges function where we are making comparisions for all the elements of the list, so basically we check whether the parent node is equal to the child node or not if 'Yes' that means both of them might be contaminated or not, and  if they are not equal then the contamination is at that node of the tree or child node either of them. These comparisions are also made n-1 times as the list is of size n so the timecomplexity fpr this function is also O(n).*<br>\n",
    "\n",
    "<br>\n",
    "\n",
    "\n",
    "\n",
    "\n",
    "\n",
    "* *This function is called inside mincosttosave() function, not within any loop so the total time complexity of the algorithm should be O(n);*  \n"
   ]
  },
  {
   "cell_type": "markdown",
   "metadata": {
    "colab_type": "text",
    "id": "7PYebJY2Soyv"
   },
   "source": [
    "## Q2.3 (15 marks)\n",
    "Implement below the algorithm you have described above, with the complexity to match.\n",
    "\n",
    "For this question we provide a class *Node* to store the problem data. You can expand this class but you cannot change the existing variables. In particular it may prove useful to write an  *\\_\\_str\\_\\_* method to help with potential debugging. The method *\\_\\_str\\_\\_* itself will not be marked."
   ]
  },
  {
   "cell_type": "code",
   "execution_count": 1,
   "metadata": {
    "colab": {},
    "colab_type": "code",
    "id": "Ajf8PI5eSoy0"
   },
   "outputs": [],
   "source": [
    "## This is the Node class which initializes a children object and contaminated object\n",
    "## the purpose of this class is to just build the binary tree when the list accesses \n",
    "## class, using the addChild() function.\n",
    "\n",
    "\n",
    "class Node:\n",
    "    def __init__(self,contaminated=False):\n",
    "        self.children = []\n",
    "        self.contaminated = contaminated\n",
    "        \n",
    "    def addChild(self, node):\n",
    "        self.children.append(node)\n",
    "        \n",
    "   #TODO extend this class here if needed\n",
    "\n",
    "   \n",
    "    "
   ]
  },
  {
   "cell_type": "markdown",
   "metadata": {
    "colab_type": "text",
    "id": "XKu2VS3gSoy_"
   },
   "source": [
    "Implement your algorithm below:"
   ]
  },
  {
   "cell_type": "code",
   "execution_count": 2,
   "metadata": {
    "colab": {},
    "colab_type": "code",
    "id": "vrSPK5kISozC"
   },
   "outputs": [],
   "source": [
    "## The minimum_edges_to_cut function has 2 input paramters that is the parent_node\n",
    "## which is basically any parent node on the tree and the minimum cost that it takes to\n",
    "## save the population .\n",
    "\n",
    "\n",
    "def minimum_edges_to_cut(parent_node,minimum_cost_edges):\n",
    " ## We first verify if the number of children that exist is greater than 1, if \n",
    "## True then we traverse through the children and check if the parent_node has the\n",
    "## same value as the child if it does not then the minimum_cost_edges is incremented\n",
    "## by 1 as then either the parent or child has it , so the counter should atleast \n",
    "## get incremented by one.\n",
    "    \n",
    "        if len(parent_node.children) >= 1:\n",
    "        \n",
    "            for child in parent_node.children:\n",
    "                \n",
    "                if parent_node.contaminated != child.contaminated:\n",
    "                \n",
    "                    minimum_cost_edges += 1\n",
    "## If no that means both the parent and the child may or may not have it , so then\n",
    "## the minimum_edges_to_cut is recursively called and then check that child with it's\n",
    "## children to verify the contamination and pass the child and the minimum_cost\n",
    "## edges counter.\n",
    "                \n",
    "                minimum_cost_edges = minimum_edges_to_cut(child,minimum_cost_edges)\n",
    "                       \n",
    "## return the final count of edges that need to eliminated in order to save the\n",
    "## population.\n",
    "            \n",
    "        return minimum_cost_edges\n",
    "            \n",
    "        "
   ]
  },
  {
   "cell_type": "code",
   "execution_count": 3,
   "metadata": {},
   "outputs": [],
   "source": [
    "## This is the main function which takes an input argument as tree and the counter\n",
    "## minimum_cost edges is assigned to the final value of the minimum_edges_to_cut\n",
    "## function which is the minimum edges to eliminate .\n",
    "\n",
    "\n",
    "def mincosttosave(tree):\n",
    "    \"\"\"Returns the minimum number of edges that must be cut to\n",
    "       save all the population nodes of the tree.\n",
    "       @param tree The root Node\"\"\"\n",
    "    #TODO\n",
    "## the counter minimum_cost_edges is initialized to 0 and tree parameter is\n",
    "## basically the parent_node parameter that means it is the node on the tree, and\n",
    "## then the final count of edges to remove is returned.\n",
    "\n",
    "\n",
    "    minimum_cost_edges = minimum_edges_to_cut(tree,0)\n",
    "    return minimum_cost_edges"
   ]
  },
  {
   "cell_type": "markdown",
   "metadata": {
    "colab_type": "text",
    "id": "JrE6i7RxSozN"
   },
   "source": [
    "We provide unit tests below. Your implementation must pass all tests to get full marks. For reference, the solution code runs in less than .1 second. If your code requires a significant longer time to run, then it may be bugged, or your algorithm may not be very efficient."
   ]
  },
  {
   "cell_type": "code",
   "execution_count": 4,
   "metadata": {
    "colab": {},
    "colab_type": "code",
    "id": "Yf-PCHtfSozP"
   },
   "outputs": [],
   "source": [
    "import unittest\n",
    "\n",
    "class TestSaveTree(unittest.TestCase):\n",
    "    def setUp(self):\n",
    "        pass\n",
    "    \n",
    "    def checkcost(self, tree, val):\n",
    "        msg = \"It should cost exactly {} to save all nodes in the tree:\\n {}.\".format(val, tree)\n",
    "        self.assertEqual(val, mincosttosave(tree), msg=msg)\n",
    "        \n",
    "    def testSingle(self):\n",
    "         self.checkcost(Node(False), 0)\n",
    "            \n",
    "    def testTwo(self):\n",
    "        #A single edge with no C\n",
    "        for top in [False, True]:\n",
    "            for left in [False, True]:\n",
    "                root = Node(top)\n",
    "                child = Node(left)\n",
    "                root.addChild(child)\n",
    "                self.checkcost(root, int(top is not left))\n",
    "                \n",
    "    def testTriangle(self):\n",
    "        #a root with two children\n",
    "        for top in [False, True]:\n",
    "            for left in [False, True]:\n",
    "                for right in [False, True]:\n",
    "                    root = Node(top)\n",
    "                    leftchild = Node(left)\n",
    "                    rightchild = Node(right)\n",
    "                    root.addChild(leftchild)\n",
    "                    root.addChild(rightchild)\n",
    "                    self.checkcost(root, int(top is not left)+int(top is not right))\n",
    "\n",
    "    def buildtree(self, nodelist, degree=2):\n",
    "        nodes = [Node(c) for c in nodelist]\n",
    "        for i in range(1,len(nodes)):\n",
    "            nodes[(i-1)//degree].addChild(nodes[i])\n",
    "        return nodes[0]\n",
    "\n",
    "    def testSmallDeg2(self):\n",
    "        tests = []\n",
    "        degree = 2\n",
    "        tests.append(([True, True, True, False], 1))\n",
    "        tests.append(([True, False, True, False], 1))\n",
    "        tests.append(([False, False, False, False], 0))\n",
    "        tests.append(([True, False, False, False], 2))\n",
    "        tests.append(([True, True, False, True, True, True, False, True], 2))\n",
    "        tests.append(([False, False, True, False, True, True, False, True], 4))\n",
    "        tests.append(([True, True, True, False, False, False, False, True], 5))\n",
    "        tests.append(([False, False, True, True, False, False, True, True], 3))\n",
    "        tests.append(([True, False, True, False, False, True, True, False], 1))\n",
    "        for test in tests:\n",
    "            tree = self.buildtree(test[0], degree)\n",
    "            self.checkcost(tree, test[1])\n",
    "            \n",
    "    def testSmallDeg3(self):\n",
    "        tests = []\n",
    "        degree = 3\n",
    "        tests.append(([True, True, False, True, False, False, True, False], 3))\n",
    "        tests.append(([False, False, True, False, False, False, True, False], 3))\n",
    "        tests.append(([True, True, False, True, False, True, True, False], 2))\n",
    "        tests.append(([False, True, False, True, False, False, True, False], 4))        \n",
    "        tests.append(([False, False, True, False, True, True, True, False], 5))\n",
    "        tests.append(([True, False, False, False, True, False, True, True], 6))\n",
    "        for test in tests:\n",
    "            tree = self.buildtree(test[0], degree)\n",
    "            self.checkcost(tree, test[1])\n",
    "            \n",
    "    def testSmallDeg5(self):\n",
    "        tests = []\n",
    "        degree = 5\n",
    "        tests.append(([True, True, False, True, False, True, False, True, True, False, False, True, True, True, False, True, False, True, True, False, True, True, True, True, True, True, True, False, True, True, False, False, True, False, False, False, False, True, True, False, False, False, False, False, True, True, True, True, True, True], 29))\n",
    "        tests.append(([True, True, True, False, False, True, True, False, True, True, False, False, True, True, False, False, False, False, True, False, False, False, True, True, True, False, True, True, True, False, False, False, True, True, False, True, True, False, True, False, False, False, True, False, False, True, False, False, False, False], 24))\n",
    "        tests.append(([True, True, False, False, False, False, True, False, False, False, False, True, True, True, False, True, True, False, False, False, True, True, False, True, False, True, True, True, False, True, False, True, True, False, False, True, True, False, True, False, True, False, True, True, False, True, False, False, True, True], 30))\n",
    "        tests.append(([True, False, False, True, False, False, True, True, False, False, True, False, False, False, False, True, True, True, True, True, False, False, True, False, True, True, True, True, False, False, False, False, True, False, False, False, True, False, False, False, False, False, True, True, True, True, False, False, True, False], 27))\n",
    "        tests.append(([False, True, False, True, True, False, False, True, False, True, True, True, False, False, False, False, True, True, False, False, True, False, True, False, False, True, True, False, True, True, True, False, False, False, True, True, False, False, False, True, False, True, True, False, False, True, False, True, True, False], 26))\n",
    "        tests.append(([True, False, False, False, False, False, True, False, True, True, True, True, True, True, True, False, True, False, True, True, True, False, False, False, False, False, False, True, False, True, True, True, True, True, False, True, False, True, False, True, False, False, False, False, True, True, False, True, False, True], 28))\n",
    "        tests.append(([False, True, True, False, True, False, True, True, False, False, False, True, True, False, True, True, False, True, False, True, False, True, False, True, True, False, True, False, True, True, True, False, True, True, False, False, False, False, True, False, False, False, True, False, False, True, True, False, True, True], 27))\n",
    "        tests.append(([False, True, False, False, False, False, True, True, False, True, True, False, False, True, False, True, True, False, True, False, True, True, False, True, False, False, True, False, False, False, True, True, False, True, True, True, False, False, True, True, False, True, True, True, False, False, True, True, False, False], 20))\n",
    "        tests.append(([True, True, True, True, False, False, False, True, False, True, True, False, True, False, True, False, True, True, False, False, True, True, False, True, True, True, False, False, False, False, True, False, True, True, False, True, False, True, True, False, False, False, False, True, True, True, False, False, True, False], 26))\n",
    "        tests.append(([False, False, False, True, True, True, False, True, False, True, False, True, True, False, False, True, False, False, False, False, False, False, False, True, False, False, True, False, False, True, True, False, False, False, False, False, False, False, True, True, False, False, True, False, True, False, True, True, False, False], 26))\n",
    "        for test in tests:\n",
    "            tree = self.buildtree(test[0], degree)\n",
    "            self.checkcost(tree, test[1])\n",
    "\n",
    "    def testBigDeg2(self):\n",
    "        tests = []\n",
    "        degree = 2\n",
    "        tests.append(([True, False, False, False, False, True, False, True, False, True, False, True, False, False, True, False, False, True, False, False, False, False, True, False, False, True, False, True, False, False, True, False, True, True, False, True, True, True, False, True, True, True, True, False, True, False, False, False, True, True, True, True, True, False, True, True, True, True, False, False, False, False, False, False, False, True, False, True, True, False, False, False, True, True, False, False, False, False, False, True, False, True, False, False, False, True, True, True, False, True, True, False, True, True, False, False, True, False, True, True, False, False, False, True, True, False, True, False, True, False, True, True, True, True, True, True, False, True, True, True, True, True, True, True, True, False, False, True, True, False, False, False, True, False, True, True, False, False, False, True, False, False, False, False, False, True, False, False, True, True, True, True, False, False, False, False, False, True, False, True, False, False, False, True, True, True, True, True, False, False, False, False, False, True, False, False, True, False, True, False, False, True, True, True, False, True, True, False, False, True, True, True, True, True, False, True, True, True, True, False], 100))\n",
    "        tests.append(([False, True, True, True, True, True, False, True, True, True, False, False, False, True, True, True, False, False, True, True, True, True, False, False, True, False, True, True, True, False, True, True, False, False, False, False, False, False, True, True, True, True, True, True, True, False, False, False, False, True, True, False, False, True, False, False, True, False, True, False, False, True, False, False, False, False, False, True, True, False, False, False, True, True, False, True, False, False, True, True, True, False, False, False, False, False, True, True, False, True, True, False, True, True, False, False, False, False, True, False, True, True, False, True, True, True, False, False, True, False, True, False, False, True, True, False, True, False, False, True, True, True, False, True, True, True, False, False, False, False, False, True, False, False, False, True, True, False, False, False, True, False, True, True, True, False, True, False, False, True, False, True, True, False, False, False, False, False, True, False, False, True, False, False, True, True, True, True, False, False, False, False, False, False, True, True, True, False, True, True, False, True, True, False, True, False, False, True, False, True, False, True, True, True, True, True, True, False, False, False], 86))\n",
    "        tests.append(([False, False, False, True, False, True, False, False, False, True, False, True, True, False, False, True, False, True, True, True, True, False, False, False, True, True, False, True, False, False, True, False, True, True, False, True, True, True, False, False, False, True, True, True, False, False, True, True, True, False, True, True, False, False, True, False, False, True, True, True, False, False, False, False, False, False, True, False, True, True, True, False, False, True, False, False, False, True, True, True, True, False, False, True, False, False, True, True, False, True, True, False, True, True, True, True, False, False, False, False, True, True, False, True, False, False, False, False, True, False, False, False, False, True, False, False, False, True, False, True, True, False, True, False, False, True, True, True, True, False, False, False, True, False, True, True, True, True, False, True, True, False, True, True, True, True, True, True, False, False, True, False, False, True, True, False, True, False, True, False, False, True, True, True, True, True, True, True, True, False, True, True, True, True, True, False, True, False, True, False, False, False, True, False, True, True, False, True, False, True, True, False, False, False, False, False, True, False, True, True], 106))\n",
    "        tests.append(([True, False, True, False, False, True, False, False, False, True, False, True, True, True, False, False, False, False, False, True, True, True, True, True, False, True, True, True, False, True, False, False, True, True, False, False, False, False, False, False, True, True, False, False, False, True, False, True, True, True, False, False, True, False, False, False, False, True, False, True, False, True, False, True, True, True, True, True, True, False, True, False, False, True, False, True, False, True, False, True, True, True, True, False, True, True, False, False, False, True, True, True, True, False, False, True, False, True, True, True, False, False, False, False, True, False, True, True, True, True, False, False, True, False, False, True, False, True, True, False, False, True, False, False, False, True, False, False, True, True, False, True, True, True, False, False, True, True, True, False, True, True, False, True, True, True, True, False, False, False, False, False, True, False, False, False, False, True, False, True, False, False, True, False, False, True, True, False, True, False, False, True, True, True, False, False, False, False, True, False, True, False, False, False, True, False, False, True, False, False, False, True, False, False, True, False, True, True, False, False], 91))\n",
    "        tests.append(([True, True, True, True, True, False, True, False, False, True, False, False, False, True, True, True, False, True, False, False, False, True, True, True, True, True, True, True, True, True, False, True, True, True, True, True, False, True, True, True, False, False, True, True, True, True, False, False, False, False, False, False, True, False, False, True, False, False, True, True, False, False, False, True, True, True, True, False, True, False, False, False, False, True, False, True, False, False, True, True, True, False, False, True, True, False, True, True, False, False, False, True, False, False, False, False, True, False, True, True, True, False, False, True, False, False, True, True, False, False, True, False, True, True, False, True, True, True, True, False, False, False, False, False, True, False, False, True, False, True, True, True, True, True, True, True, True, True, False, False, False, True, False, True, True, False, False, False, True, True, False, False, False, True, False, False, True, False, False, True, True, False, True, False, False, False, False, True, False, True, False, False, False, True, False, True, False, False, True, True, False, False, False, True, False, False, True, False, True, False, False, True, True, False, False, True, True, True, True, True], 94))\n",
    "        tests.append(([False, True, False, True, False, True, False, False, False, False, True, True, True, False, False, True, True, True, True, True, True, True, True, True, False, True, True, False, False, False, True, False, True, True, False, False, True, False, False, True, True, False, False, False, True, False, False, True, False, True, True, True, False, True, False, False, True, True, True, False, False, False, False, False, False, True, True, False, True, True, False, False, True, True, False, True, False, True, True, True, False, True, True, False, True, True, False, False, False, False, True, False, True, True, False, False, True, False, True, False, False, True, False, False, True, True, True, True, True, True, True, False, False, False, False, False, False, False, False, False, False, True, True, True, True, True, False, False, True, True, False, False, True, False, True, False, False, False, False, False, False, True, False, True, False, True, True, True, True, True, True, False, False, False, False, True, True, False, True, True, True, True, True, False, False, True, True, False, True, True, False, True, True, False, True, False, True, True, False, True, True, True, False, True, False, True, False, False, True, False, False, True, False, True, False, True, False, True, False, True], 103))\n",
    "        tests.append(([True, False, False, True, False, True, True, False, False, True, False, False, True, False, True, False, True, False, True, False, False, True, False, True, False, True, True, True, True, True, True, False, False, True, True, False, True, False, True, True, True, True, False, True, True, True, False, False, True, True, True, False, True, False, True, False, True, True, False, False, False, True, True, False, True, False, True, True, False, True, True, False, True, True, False, True, True, True, True, False, False, False, True, False, True, True, True, False, True, True, True, True, True, False, True, False, False, True, False, True, False, True, True, True, False, False, True, False, False, True, False, True, True, True, True, True, True, False, False, False, False, False, True, False, False, True, True, True, True, True, False, False, True, True, False, True, False, False, False, True, False, False, True, True, True, False, True, False, True, True, False, True, True, True, True, False, True, True, True, True, False, True, False, True, True, True, False, True, False, True, True, False, True, True, False, True, False, False, False, True, False, True, False, True, False, False, False, False, True, True, True, True, False, True, True, True, False, True, False, False], 95))\n",
    "        tests.append(([True, True, False, True, False, True, True, True, True, False, False, False, False, False, True, True, True, False, False, True, False, True, True, False, False, True, False, True, False, True, True, False, True, False, False, True, True, True, False, True, False, True, False, True, True, True, True, False, False, True, True, False, True, True, False, False, True, False, True, False, True, True, False, False, False, True, False, True, False, False, False, True, True, False, True, False, False, False, True, True, True, True, False, False, True, False, True, True, True, False, False, True, False, True, True, False, False, True, True, False, False, True, False, False, False, False, False, True, False, False, False, True, True, False, False, False, False, False, True, False, False, True, False, True, False, False, True, False, True, True, True, True, True, False, True, True, False, True, False, True, True, True, True, True, True, True, True, True, False, False, True, True, False, False, False, True, True, True, False, False, True, True, True, True, True, False, False, False, True, False, True, False, True, True, False, True, False, False, False, True, False, False, False, True, True, True, False, False, True, True, True, True, False, False, False, False, True, False, False, True], 90))\n",
    "        tests.append(([False, False, True, False, False, True, False, False, True, True, False, True, True, True, False, False, False, False, True, False, True, True, True, True, False, True, True, True, True, True, False, True, False, True, True, False, False, False, True, False, True, True, False, True, False, False, True, False, True, False, False, True, True, True, False, False, True, True, False, True, False, False, True, True, True, True, False, False, False, False, True, True, True, False, False, False, True, True, True, True, False, True, False, False, True, True, True, True, True, True, True, False, False, False, True, True, False, True, False, False, False, True, False, False, False, True, True, False, True, False, False, False, True, False, True, False, False, False, False, True, True, True, False, False, True, False, False, True, True, False, True, True, True, True, False, True, False, True, True, False, True, True, True, True, True, False, False, False, False, False, True, False, True, False, True, True, True, True, True, False, True, True, True, True, False, False, False, False, True, False, True, True, False, True, True, True, False, True, False, True, False, False, False, False, False, True, False, True, True, False, False, True, False, False, True, False, False, True, True, True], 89))\n",
    "        tests.append(([False, True, True, False, True, False, True, True, True, True, False, True, False, False, False, True, False, True, True, True, False, True, True, True, True, False, True, False, False, False, False, True, False, True, True, False, True, True, False, False, False, True, True, True, False, False, False, False, True, True, True, False, True, True, False, False, True, False, False, False, False, True, True, True, True, True, False, False, False, False, True, True, False, False, True, False, True, False, False, True, False, True, False, True, True, False, True, True, True, True, True, True, False, False, True, False, True, False, False, True, True, True, True, True, True, True, True, False, True, False, True, False, False, True, False, True, True, True, False, True, True, False, False, True, True, True, True, False, True, True, True, False, True, True, True, True, True, False, True, False, False, False, True, False, True, False, True, True, True, True, True, False, True, True, True, False, False, False, True, True, True, False, False, False, True, False, True, False, False, True, True, False, False, False, True, True, False, False, False, True, False, True, True, True, False, False, True, True, True, True, True, True, False, False, True, True, True, False, False, True], 91))\n",
    "        for test in tests:\n",
    "            tree = self.buildtree(test[0], degree)\n",
    "            self.checkcost(tree, test[1])\n",
    "            \n",
    "    def testBigDeg5(self):\n",
    "        tests = []\n",
    "        degree = 5 \n",
    "        tests.append(([True, False, False, False, True, True, True, False, True, False, False, True, False, False, False, True, True, False, True, True, False, False, False, True, False, False, False, False, False, True, True, False, False, False, True, False, False, True, False, True, True, True, False, True, True, False, False, True, True, True, True, True, True, True, True, False, True, False, False, False, True, True, False, False, False, True, True, False, False, False, True, True, True, False, True, True, False, False, True, True, True, False, True, False, True, False, True, True, True, False, True, True, True, True, True, False, True, True, False, False, True, True, False, False, False, True, False, True, False, False, False, False, True, False, False, True, False, False, False, True, False, True, False, True, True, True, True, False, True, False, False, False, False, False, False, True, True, True, False, True, False, False, False, True, False, False, False, False, True, False, True, False, True, True, False, False, True, False, False, False, True, False, False, False, True, True, False, False, True, True, True, True, True, True, True, True, True, False, True, True, False, False, True, False, True, True, False, True, True, False, True, False, True, False, False, False, False, False, False, True], 102))\n",
    "        tests.append(([True, False, False, True, True, False, False, True, False, True, False, True, True, True, False, False, False, False, False, False, False, True, False, True, True, True, True, True, False, True, True, False, False, True, False, True, False, True, False, False, True, True, True, False, False, False, False, False, True, True, True, True, True, False, False, False, True, True, False, False, True, True, False, True, True, False, False, False, True, False, True, True, False, False, False, False, True, True, False, True, True, True, True, True, True, True, False, True, False, True, True, True, True, True, True, False, True, True, False, True, False, False, True, True, True, False, True, False, False, True, False, True, True, False, False, True, True, False, False, True, False, True, False, True, True, False, True, True, True, True, False, False, True, False, False, True, True, True, False, True, True, True, False, True, False, False, False, False, False, False, False, True, True, True, True, False, False, True, False, False, False, False, True, False, True, True, False, True, False, False, True, False, True, True, True, True, False, True, False, True, True, True, False, False, True, True, False, False, True, False, True, False, False, True, False, True, True, True, False, False], 106))\n",
    "        tests.append(([False, False, False, False, False, False, False, True, True, True, False, False, True, True, True, True, False, True, False, False, False, True, True, False, True, True, False, False, True, False, False, False, False, True, True, False, False, True, False, False, True, True, False, False, False, False, False, False, True, False, True, True, True, False, False, False, False, False, True, False, True, True, False, False, True, False, True, True, False, False, True, True, True, False, True, False, False, False, True, True, False, False, True, True, False, True, False, False, True, False, True, False, True, False, False, True, True, True, False, True, True, True, False, False, False, True, False, True, False, True, False, True, False, False, True, False, True, False, True, False, True, True, True, True, False, True, False, False, True, True, False, False, True, True, True, True, False, False, True, False, False, False, True, False, True, True, True, False, True, False, True, True, True, True, False, False, False, True, True, True, False, True, False, False, False, True, True, True, True, False, False, True, True, False, False, True, False, True, True, True, False, True, True, True, False, True, True, True, True, False, True, True, True, True, False, True, False, False, False, True], 101))\n",
    "        tests.append(([True, False, False, True, True, True, True, True, True, False, True, True, True, True, False, False, False, False, False, True, False, True, False, True, True, True, False, True, True, True, True, False, True, False, False, False, True, False, True, False, False, False, True, False, False, False, True, True, False, False, False, False, False, False, False, False, False, False, True, True, False, False, True, True, True, True, False, True, False, True, False, True, False, False, False, True, False, False, True, False, False, True, True, True, False, True, True, False, False, False, True, False, False, False, False, True, True, True, True, False, True, True, False, True, False, True, True, True, False, False, False, False, False, False, False, True, True, False, True, False, True, True, True, False, False, True, False, True, True, False, True, True, False, False, True, False, False, False, True, False, False, True, False, False, False, False, False, True, True, True, False, False, True, False, True, True, False, False, True, True, False, True, True, False, True, False, False, True, False, False, True, True, False, True, True, True, True, True, False, True, True, False, True, False, False, False, False, True, True, False, True, True, False, False, False, True, False, True, False, False], 103))\n",
    "        tests.append(([True, True, False, True, False, True, True, False, False, False, True, False, True, True, True, False, True, False, False, False, False, False, False, True, True, True, False, True, True, True, False, True, False, True, False, True, True, False, True, True, True, False, True, True, False, True, True, False, False, True, True, True, True, False, False, False, True, False, False, True, True, True, False, True, True, True, False, False, False, True, True, False, False, True, False, False, True, False, False, False, True, False, True, True, False, True, False, True, False, False, True, True, True, False, True, False, True, True, False, False, False, True, False, False, True, False, False, True, True, True, True, False, False, False, False, True, False, False, False, False, False, True, False, False, False, False, False, True, True, True, False, True, False, True, False, False, False, False, False, True, True, False, True, False, True, True, True, False, False, False, False, True, False, True, True, False, False, False, True, False, False, False, False, True, False, True, True, False, True, True, False, False, True, False, False, True, True, False, True, True, False, True, True, False, False, False, False, True, True, False, True, False, False, False, False, True, False, False, False, True], 111))\n",
    "        tests.append(([False, False, False, False, True, True, True, True, False, False, True, False, True, False, False, True, True, True, False, False, True, True, False, False, True, True, True, True, False, True, True, False, False, False, False, True, False, True, True, True, True, True, True, False, True, True, False, False, True, True, True, False, False, False, False, True, False, True, False, False, True, True, False, False, True, True, False, True, False, False, True, False, True, True, True, True, True, False, True, False, False, True, False, False, True, True, False, False, True, True, False, True, True, True, True, True, True, True, True, True, False, True, True, False, False, False, False, False, False, True, False, False, True, True, False, True, False, False, False, False, True, True, True, False, True, False, True, True, True, False, False, False, True, True, False, False, True, True, True, True, False, True, False, True, False, True, False, False, False, False, True, False, True, True, True, False, False, False, False, True, False, False, False, True, False, True, True, False, False, False, True, True, True, False, False, False, True, False, True, False, True, False, False, True, False, False, False, False, False, True, True, True, True, True, True, False, False, False, True, True], 100))\n",
    "        tests.append(([False, True, False, False, True, False, False, True, False, True, True, True, True, True, True, True, False, True, True, True, True, True, True, True, True, False, False, False, False, False, True, False, True, True, False, False, True, True, True, False, False, False, True, False, True, True, True, True, True, True, True, False, True, True, True, True, True, False, True, False, False, True, False, True, True, True, False, True, True, False, True, True, True, True, False, True, False, True, True, True, True, True, True, True, True, False, False, False, True, False, False, True, True, True, True, False, True, True, False, True, True, False, True, False, False, False, False, False, True, True, True, False, True, True, False, True, False, True, False, False, True, False, True, False, True, False, True, True, True, False, False, False, True, True, False, False, False, True, True, True, True, True, True, False, False, True, True, False, False, True, True, False, False, False, False, False, False, True, True, False, False, False, True, True, False, False, True, True, False, True, False, False, False, True, True, False, False, True, True, True, False, True, True, True, True, True, False, False, False, False, True, True, False, True, True, False, False, True, True, True], 96))\n",
    "        tests.append(([True, False, True, True, False, True, False, False, True, False, False, True, False, False, False, False, False, False, False, True, True, True, False, True, True, True, False, False, False, True, False, True, False, False, True, True, False, True, False, False, False, True, False, True, True, True, False, True, False, True, False, False, False, False, True, False, False, False, False, True, True, True, True, False, True, False, False, False, True, False, False, True, False, True, False, False, False, True, False, True, False, False, False, False, False, False, False, True, False, False, False, True, True, True, True, False, True, False, True, False, True, True, True, True, False, False, False, True, False, True, True, False, False, True, False, True, True, False, False, True, True, True, False, False, False, False, True, False, True, True, False, True, True, False, True, False, False, True, False, False, False, True, True, False, False, False, True, True, False, True, False, True, False, False, False, False, False, False, True, True, False, True, True, False, False, True, True, False, True, False, True, True, False, False, True, True, False, True, False, True, True, True, False, True, False, True, False, True, True, False, True, True, True, True, False, True, True, True, False, True], 92))\n",
    "        tests.append(([True, False, False, True, False, False, True, True, False, False, False, False, False, False, False, False, False, False, True, True, True, True, True, True, False, False, False, True, False, True, False, False, False, False, True, False, False, True, True, False, False, False, True, False, False, True, True, True, False, True, False, False, True, True, False, True, False, False, True, False, False, False, True, True, False, False, False, True, True, True, True, True, False, True, False, True, True, True, True, True, False, False, True, False, False, False, True, True, True, True, False, False, True, True, True, True, True, True, True, True, True, False, False, True, False, False, True, True, True, False, True, True, True, False, True, True, False, False, False, True, False, True, False, False, True, False, False, True, False, True, False, True, False, True, False, False, False, True, False, True, False, False, True, False, True, True, False, True, False, False, False, True, False, True, False, False, True, False, True, False, True, False, False, False, False, False, False, True, True, False, False, False, True, False, True, True, True, True, False, True, True, True, False, False, True, True, True, False, True, True, True, True, True, True, True, True, False, False, True, False], 92))\n",
    "        tests.append(([True, True, False, True, False, True, True, True, True, True, False, False, False, True, False, True, True, False, False, False, False, True, False, False, True, False, True, False, False, False, False, False, True, True, False, False, False, False, False, True, True, False, True, False, True, True, True, False, False, False, True, True, True, False, False, False, True, True, True, False, True, False, True, True, True, True, True, False, True, True, False, True, False, True, True, True, False, False, False, True, True, True, False, True, True, True, True, False, True, True, True, True, False, True, True, True, False, False, False, False, True, False, False, True, False, False, True, True, True, False, True, False, True, False, True, True, True, False, False, True, True, False, False, False, True, False, False, True, True, True, True, True, True, True, False, True, True, False, False, True, False, True, True, False, False, True, True, False, True, True, True, False, False, True, True, True, False, True, False, False, True, False, False, True, True, False, True, False, True, True, True, False, True, True, False, False, False, False, False, False, True, False, True, True, False, False, False, True, True, True, False, True, True, False, True, True, True, False, False, False], 105))\n",
    "        for test in tests:\n",
    "            tree = self.buildtree(test[0], degree)\n",
    "            self.checkcost(tree, test[1])"
   ]
  },
  {
   "cell_type": "code",
   "execution_count": 5,
   "metadata": {
    "colab": {},
    "colab_type": "code",
    "id": "0nCWKIzBSozj"
   },
   "outputs": [
    {
     "name": "stderr",
     "output_type": "stream",
     "text": [
      "........\n",
      "----------------------------------------------------------------------\n",
      "Ran 8 tests in 0.011s\n",
      "\n",
      "OK\n"
     ]
    },
    {
     "data": {
      "text/plain": [
       "<unittest.runner.TextTestResult run=8 errors=0 failures=0>"
      ]
     },
     "execution_count": 5,
     "metadata": {},
     "output_type": "execute_result"
    }
   ],
   "source": [
    "testsavetree = TestSaveTree()\n",
    "suite = unittest.TestLoader().loadTestsFromModule(testsavetree)\n",
    "unittest.TextTestRunner().run(suite)"
   ]
  },
  {
   "cell_type": "code",
   "execution_count": null,
   "metadata": {},
   "outputs": [],
   "source": []
  }
 ],
 "metadata": {
  "colab": {
   "collapsed_sections": [],
   "name": "FIT5211_2019_S2_Assignment_2_Q2_v1.1.ipynb",
   "provenance": []
  },
  "kernelspec": {
   "display_name": "Python 3",
   "language": "python",
   "name": "python3"
  },
  "language_info": {
   "codemirror_mode": {
    "name": "ipython",
    "version": 3
   },
   "file_extension": ".py",
   "mimetype": "text/x-python",
   "name": "python",
   "nbconvert_exporter": "python",
   "pygments_lexer": "ipython3",
   "version": "3.6.8"
  }
 },
 "nbformat": 4,
 "nbformat_minor": 1
}
