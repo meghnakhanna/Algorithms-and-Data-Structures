{
 "cells": [
  {
   "cell_type": "markdown",
   "metadata": {
    "colab_type": "text",
    "id": "aBHlvnvdyIpG"
   },
   "source": [
    "# Question 3: Matrix Creation (20 marks)"
   ]
  },
  {
   "cell_type": "markdown",
   "metadata": {
    "colab_type": "text",
    "id": "rFjwYntFTGs4"
   },
   "source": [
    "Suppose that an array $A$ of $n \\geq 1$ numbers is given.\n",
    "\n",
    "We want to create a $n \\times n$ matrix $B$ such that, \n",
    "* for $0\\leq i < j < n$, $B[i,j]= \\sum_{k=i}^{j} A[k] = A[i] + A[i+1] + \\dots +  A[j]$,\n",
    "* for $n > i \\geq j \\geq 0$,  $B[i,j]=0$."
   ]
  },
  {
   "cell_type": "markdown",
   "metadata": {
    "colab_type": "text",
    "id": "b5zzQ61lyTvI"
   },
   "source": [
    "## Q3.1 (15 marks)\n",
    "Create a function *createMatrix(A)* which takes an array $A$ as input and returns the matrix $B$ as defined above. You can get up to 10 marks for a $O(n^3)$ algorithm, and up to 15 marks for a $O(n^2)$ algorithm. We recommend writing the $O(n^3)$ algorithm first to ensure 10 marks, and then attempt a $O(n^2)$ algorithm."
   ]
  },
  {
   "cell_type": "code",
   "execution_count": 1,
   "metadata": {
    "colab": {},
    "colab_type": "code",
    "id": "EFal4bB2TGs-"
   },
   "outputs": [],
   "source": [
    "## We are importing numpy for matrix and array operations that need to performed on the \n",
    "## array provided.\n",
    "\n",
    "import numpy  #import library numpy\n",
    "\n",
    "def createMatrix(A):    # create a function with input parameter A which is an array\n",
    "\n",
    "    n=len(A)    # store the length of the array in a varibale n for further operations \n",
    "    \n",
    "## Create a 2-D array using numpy.array \n",
    "## A matrix of n*n rows and columns with value of zeroes is created,\n",
    "## where n is the length of the array , the result 2-D matrix is named B.\n",
    "    \n",
    "    B=numpy.array([[0]*n for i in range(n)])   \n",
    "    \n",
    "## Here as specified in the conditions above for 0 ≤ 𝑖 < 𝑗 < 𝑛 which means that\n",
    "## i and j both lie in the range of n which is the length of the array A.\n",
    "    \n",
    "    for i in range(n):  \n",
    "        \n",
    "        for j in range(n):  \n",
    "            \n",
    "## Now, we check for teh condition specified in the assessment specifications\n",
    "## 𝑛 > 𝑖 ≥ 𝑗≥ 0, if i>=j then the matrix B[i][j] would be a null matrix that is\n",
    "## 𝐵[𝑖,𝑗]=0             \n",
    "            if i>=j:    #checking the condition with an if statement\n",
    "                \n",
    "## If the condition is proved to be True then the matrix B is intialized to 0,\n",
    "## the structure of the matrix would look like array([[0, 0, 0],[0, 0, 0],[0, 0, 0]])\n",
    "                B[i][j] = 0  \n",
    "            else:          # if the condition is not satisfied\n",
    "## after examining the output of the O(n^3) algorithm , a pattern was observed\n",
    "## that is if:B[0][1]=A[0] + A[1], or B[1][2]=A[1] + A[2] i.e when the differnce  \n",
    "## between i and j is 1 then B[i][j]=A[i] + A[j], and if the difference between i and \n",
    "## is greater than 1 then,B[0][3]=A[0]+A[1]+A[2]+A[3] then B[0][4]=B[0][3] + A[4]\n",
    "## i.e. B[i][j]=A[i][j-1] + A[j]\n",
    "## checked for j-i is equal to 1 so as to get a positive 1 to compare             \n",
    "                if (j-i)== 1:   \n",
    "        \n",
    "## If j-i is 1 is True,then observed pattern \n",
    "                    B[i][j] = A[i] + A[j]   \n",
    "                elif (j-i) > 1:      # checked if j-i is greater than 1\n",
    "## The observed pattern if j-i is greater than 1 \n",
    "                    B[i][j]=B[i][j-1] + A[j]\n",
    "                 \n",
    "                \n",
    "    return B   #returning the final matrix"
   ]
  },
  {
   "cell_type": "markdown",
   "metadata": {
    "colab_type": "text",
    "id": "2TC6H1Z-0unn"
   },
   "source": [
    "The following code is given for your testing:"
   ]
  },
  {
   "cell_type": "code",
   "execution_count": 2,
   "metadata": {
    "colab": {},
    "colab_type": "code",
    "id": "DsAINPig0STv"
   },
   "outputs": [],
   "source": [
    "def checkResult(B, correctB):\n",
    "    assert numpy.equal(B, correctB).all()"
   ]
  },
  {
   "cell_type": "code",
   "execution_count": 3,
   "metadata": {
    "colab": {},
    "colab_type": "code",
    "id": "PYz7nSwETGtW"
   },
   "outputs": [],
   "source": [
    "checkResult(createMatrix([0,0,0,0]), [[0,0,0,0],[0,0,0,0],[0,0,0,0],[0,0,0,0]])"
   ]
  },
  {
   "cell_type": "code",
   "execution_count": 4,
   "metadata": {
    "colab": {},
    "colab_type": "code",
    "id": "yt_AKZ0tTGtb"
   },
   "outputs": [],
   "source": [
    "checkResult(createMatrix([1,2,3]), [[0,3,6],[0,0,5],[0,0,0]])"
   ]
  },
  {
   "cell_type": "code",
   "execution_count": 5,
   "metadata": {
    "colab": {},
    "colab_type": "code",
    "id": "E7g83XGUTGtk"
   },
   "outputs": [],
   "source": [
    "checkResult(createMatrix([-1,2,-3]), [[0,1,-2],[0,0,-1],[0,0,0]])"
   ]
  },
  {
   "cell_type": "code",
   "execution_count": 6,
   "metadata": {
    "colab": {},
    "colab_type": "code",
    "id": "mv0XV7Y_TGtr"
   },
   "outputs": [],
   "source": [
    "checkResult(createMatrix([10,1,-2,12,4,-100]), [[0,11,9,21,25,-75],[0,0,-1,11,15,-85],[0,0,0,10,14,-86],[0,0,0,0,16,-84],[0,0,0,0,0,-96],[0,0,0,0,0,0]])"
   ]
  },
  {
   "cell_type": "markdown",
   "metadata": {
    "colab_type": "text",
    "id": "MOd1lCZ30Vrj"
   },
   "source": [
    "## Q3.2 (5 marks)\n",
    "Prove the runtime of the algorithm you wrote."
   ]
  },
  {
   "cell_type": "markdown",
   "metadata": {
    "colab_type": "text",
    "id": "NIHX_8oSTGt1"
   },
   "source": [
    "**The runtime of the algorithm used for this Task is as follows:  <br />\n",
    "n=len(A)   : The time complexity for this statement is O(1)   <br />\n",
    "B=numpy.array([[0]*n for i in range(n)])   :O(n^2)  <br />\n",
    "The time complexity for this statement is O(n^2) as this statement is exceuted n-1  times that is along the length of the array A that is it makes a 2-D array of n arrays,\n",
    "and executes this operation n times.** \n",
    "\n",
    "\n",
    "`for i in range(n):  This statement is exceuted n-1 times so the time complexity is O(n)\n",
    "    for j in range(n):  This statement is exceuted n-1 times so the time complexity is O(n)\n",
    "if i>=j: time complexity of an if statement is O(1) \n",
    "B[i][j] = 0  time complexity of this statement is O(1)\n",
    " else:         \n",
    "if (j-i)== 1:   time Complexity of this statement is O(1)\n",
    " B[i][j] = A[i] + A[j]   :O(1)\n",
    " elif (j-i) > 1:      O(1)\n",
    " B[i][j]=B[i][j-1] + A[j]  : O(1)\n",
    " return B`                   "
   ]
  },
  {
   "cell_type": "markdown",
   "metadata": {},
   "source": [
    "Every operation inside the for loops of i and j are exceuted n^2 times. <br />\n",
    "So the total complexity is:O(1)+O(n^2)+O(n)*O(n)+O(1)=O(n^2) as that is the dominant order of the terms and constant terms are not written in the big O notation so the final complexity is O(n^2)."
   ]
  },
  {
   "cell_type": "code",
   "execution_count": null,
   "metadata": {},
   "outputs": [],
   "source": []
  }
 ],
 "metadata": {
  "colab": {
   "collapsed_sections": [],
   "name": "FIT5211_2019_S2_Assignment_1_Q3_v1.ipynb",
   "provenance": [],
   "version": "0.3.2"
  },
  "kernelspec": {
   "display_name": "Python 3",
   "language": "python",
   "name": "python3"
  },
  "language_info": {
   "codemirror_mode": {
    "name": "ipython",
    "version": 3
   },
   "file_extension": ".py",
   "mimetype": "text/x-python",
   "name": "python",
   "nbconvert_exporter": "python",
   "pygments_lexer": "ipython3",
   "version": "3.7.3"
  }
 },
 "nbformat": 4,
 "nbformat_minor": 1
}
